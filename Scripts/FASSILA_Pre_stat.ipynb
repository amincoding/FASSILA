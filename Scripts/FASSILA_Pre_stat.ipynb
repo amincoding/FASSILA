{
  "nbformat": 4,
  "nbformat_minor": 0,
  "metadata": {
    "colab": {
      "provenance": []
    },
    "kernelspec": {
      "name": "python3",
      "display_name": "Python 3"
    },
    "language_info": {
      "name": "python"
    }
  },
  "cells": [
    {
      "cell_type": "markdown",
      "source": [
        "# Split dataset"
      ],
      "metadata": {
        "id": "mv0L4tOOFQ2y"
      }
    },
    {
      "cell_type": "code",
      "source": [
        "import pandas as pd\n",
        "from sklearn.model_selection import train_test_split\n",
        "import numpy as np\n",
        "\n",
        "def load_and_split_dataset(file_path):\n",
        "    # Load the dataset\n",
        "    data = pd.read_csv(file_path)\n",
        "    #data.rename(columns = {'sentiment':'label'}, inplace = True)\n",
        "    # Splitting the data into train, validation, and test sets\n",
        "    train, test = train_test_split(data, test_size=0.2)# , stratify=data['label']\n",
        "    #test = train_test_split(temp, test_size=0.5, stratify=temp['label'])\n",
        "\n",
        "    # Save the splits to new CSV files\n",
        "    train.to_csv('/content/drive/MyDrive/Academic_Papers/Arabic Learner/Filtered data/Tongue and Study/train_set.csv', index=False)\n",
        "    #validation.to_csv('validation_set.csv', index=False)\n",
        "    test.to_csv('/content/drive/MyDrive/Academic_Papers/Arabic Learner/Filtered data/Tongue and Study/test_set.csv', index=False)\n",
        "\n",
        "    return train, test"
      ],
      "metadata": {
        "id": "xza2-DSV2X6B"
      },
      "execution_count": null,
      "outputs": []
    },
    {
      "cell_type": "code",
      "source": [
        "# Replace 'your_dataset.csv' with your actual file path\n",
        "file_path = '/content/drive/MyDrive/Academic_Papers/Arabic Learner/Filtered data/Tongue and Study/tongue and study data.csv'\n",
        "train_set, test_set = load_and_split_dataset(file_path)"
      ],
      "metadata": {
        "id": "iLMJwAW42Zp6"
      },
      "execution_count": null,
      "outputs": []
    },
    {
      "cell_type": "code",
      "source": [
        "len(test_set)"
      ],
      "metadata": {
        "id": "L7AGEcUpxveD"
      },
      "execution_count": null,
      "outputs": []
    },
    {
      "cell_type": "code",
      "source": [
        "data = pd.read_csv('/content/FASSILA_SA.csv')\n",
        "for i in range(len(data)):\n",
        "  if pd.isnull(data['label'][i]):\n",
        "    print(data['text'][i])"
      ],
      "metadata": {
        "id": "NhQ4sy_uulh8"
      },
      "execution_count": null,
      "outputs": []
    },
    {
      "cell_type": "code",
      "source": [
        "pd.isnull(data['label'][0])"
      ],
      "metadata": {
        "colab": {
          "base_uri": "https://localhost:8080/"
        },
        "id": "v5mQTkRd7E7l",
        "outputId": "6d9c6c75-7a5d-4c7e-d496-cc31e8e9237d"
      },
      "execution_count": null,
      "outputs": [
        {
          "output_type": "execute_result",
          "data": {
            "text/plain": [
              "False"
            ]
          },
          "metadata": {},
          "execution_count": 38
        }
      ]
    },
    {
      "cell_type": "code",
      "source": [
        "# Create a dictionary of values to replace\n",
        "label_encoding = {'positive': 1, 'negative': 0, 'neutral': 2}\n",
        "#read\n",
        "data_train = pd.read_csv('/content/train_set.csv', sep=',')\n",
        "data_val = pd.read_csv('/content/validation_set.csv', sep=',')\n",
        "data_test = pd.read_csv('/content/test_set.csv', sep=',')\n",
        "# Use the `replace` method to apply the label encoding\n",
        "data_train['SA_label'] = data_train['SA_label'].replace(label_encoding)\n",
        "data_val['SA_label'] = data_val['SA_label'].replace(label_encoding)\n",
        "data_test['SA_label'] = data_test['SA_label'].replace(label_encoding)\n",
        "#save\n",
        "data_train.to_csv('train_set.csv', index=False)\n",
        "data_val.to_csv('validation_set.csv', index=False)\n",
        "data_test.to_csv('test_set.csv', index=False)"
      ],
      "metadata": {
        "id": "DPAhR5YqSdwS"
      },
      "execution_count": null,
      "outputs": []
    },
    {
      "cell_type": "code",
      "source": [
        "data_train=data_train.drop(['label'], axis=1)\n",
        "data_val = data_val.drop(['label'], axis=1)\n",
        "data_test=data_test.drop(['label'], axis=1)"
      ],
      "metadata": {
        "id": "ia45dGqH3cPo"
      },
      "execution_count": null,
      "outputs": []
    },
    {
      "cell_type": "code",
      "source": [
        "data_train = data_train.rename({'SA_label': 'label'}, axis=1)\n",
        "data_val = data_val.rename({'SA_label': 'label'}, axis=1)\n",
        "data_test = data_test.rename({'SA_label': 'label'}, axis=1)"
      ],
      "metadata": {
        "id": "l8AHZam23sVe"
      },
      "execution_count": null,
      "outputs": []
    },
    {
      "cell_type": "code",
      "source": [
        "data_val.head()"
      ],
      "metadata": {
        "colab": {
          "base_uri": "https://localhost:8080/",
          "height": 206
        },
        "id": "owYcNvtaS7NV",
        "outputId": "abe590c9-d956-4caf-aac3-fcf2a7b5bc32"
      },
      "execution_count": null,
      "outputs": [
        {
          "output_type": "execute_result",
          "data": {
            "text/plain": [
              "        source                                               text  label\n",
              "0   translated       لغى الخضر فألمانيا تحالف تاع جامايكا الثلاثي      2\n",
              "1   translated      السيسى على وشك الخروج خاسرا من السباق الرئاسي      0\n",
              "2  paraphrased  بزاف الإندونيسيين نضممو لواحد المسيرة علا جال ...      2\n",
              "3      youtube         قاطعوا هده القناة الكادبة لعنت الله عليكم.      0\n",
              "4   translated                 تعديل ضريبي فلسطيني لخفض الإيرادات      0"
            ],
            "text/html": [
              "\n",
              "  <div id=\"df-9ebcfc32-5470-4bd2-a472-7f14909644ed\" class=\"colab-df-container\">\n",
              "    <div>\n",
              "<style scoped>\n",
              "    .dataframe tbody tr th:only-of-type {\n",
              "        vertical-align: middle;\n",
              "    }\n",
              "\n",
              "    .dataframe tbody tr th {\n",
              "        vertical-align: top;\n",
              "    }\n",
              "\n",
              "    .dataframe thead th {\n",
              "        text-align: right;\n",
              "    }\n",
              "</style>\n",
              "<table border=\"1\" class=\"dataframe\">\n",
              "  <thead>\n",
              "    <tr style=\"text-align: right;\">\n",
              "      <th></th>\n",
              "      <th>source</th>\n",
              "      <th>text</th>\n",
              "      <th>label</th>\n",
              "    </tr>\n",
              "  </thead>\n",
              "  <tbody>\n",
              "    <tr>\n",
              "      <th>0</th>\n",
              "      <td>translated</td>\n",
              "      <td>لغى الخضر فألمانيا تحالف تاع جامايكا الثلاثي</td>\n",
              "      <td>2</td>\n",
              "    </tr>\n",
              "    <tr>\n",
              "      <th>1</th>\n",
              "      <td>translated</td>\n",
              "      <td>السيسى على وشك الخروج خاسرا من السباق الرئاسي</td>\n",
              "      <td>0</td>\n",
              "    </tr>\n",
              "    <tr>\n",
              "      <th>2</th>\n",
              "      <td>paraphrased</td>\n",
              "      <td>بزاف الإندونيسيين نضممو لواحد المسيرة علا جال ...</td>\n",
              "      <td>2</td>\n",
              "    </tr>\n",
              "    <tr>\n",
              "      <th>3</th>\n",
              "      <td>youtube</td>\n",
              "      <td>قاطعوا هده القناة الكادبة لعنت الله عليكم.</td>\n",
              "      <td>0</td>\n",
              "    </tr>\n",
              "    <tr>\n",
              "      <th>4</th>\n",
              "      <td>translated</td>\n",
              "      <td>تعديل ضريبي فلسطيني لخفض الإيرادات</td>\n",
              "      <td>0</td>\n",
              "    </tr>\n",
              "  </tbody>\n",
              "</table>\n",
              "</div>\n",
              "    <div class=\"colab-df-buttons\">\n",
              "\n",
              "  <div class=\"colab-df-container\">\n",
              "    <button class=\"colab-df-convert\" onclick=\"convertToInteractive('df-9ebcfc32-5470-4bd2-a472-7f14909644ed')\"\n",
              "            title=\"Convert this dataframe to an interactive table.\"\n",
              "            style=\"display:none;\">\n",
              "\n",
              "  <svg xmlns=\"http://www.w3.org/2000/svg\" height=\"24px\" viewBox=\"0 -960 960 960\">\n",
              "    <path d=\"M120-120v-720h720v720H120Zm60-500h600v-160H180v160Zm220 220h160v-160H400v160Zm0 220h160v-160H400v160ZM180-400h160v-160H180v160Zm440 0h160v-160H620v160ZM180-180h160v-160H180v160Zm440 0h160v-160H620v160Z\"/>\n",
              "  </svg>\n",
              "    </button>\n",
              "\n",
              "  <style>\n",
              "    .colab-df-container {\n",
              "      display:flex;\n",
              "      gap: 12px;\n",
              "    }\n",
              "\n",
              "    .colab-df-convert {\n",
              "      background-color: #E8F0FE;\n",
              "      border: none;\n",
              "      border-radius: 50%;\n",
              "      cursor: pointer;\n",
              "      display: none;\n",
              "      fill: #1967D2;\n",
              "      height: 32px;\n",
              "      padding: 0 0 0 0;\n",
              "      width: 32px;\n",
              "    }\n",
              "\n",
              "    .colab-df-convert:hover {\n",
              "      background-color: #E2EBFA;\n",
              "      box-shadow: 0px 1px 2px rgba(60, 64, 67, 0.3), 0px 1px 3px 1px rgba(60, 64, 67, 0.15);\n",
              "      fill: #174EA6;\n",
              "    }\n",
              "\n",
              "    .colab-df-buttons div {\n",
              "      margin-bottom: 4px;\n",
              "    }\n",
              "\n",
              "    [theme=dark] .colab-df-convert {\n",
              "      background-color: #3B4455;\n",
              "      fill: #D2E3FC;\n",
              "    }\n",
              "\n",
              "    [theme=dark] .colab-df-convert:hover {\n",
              "      background-color: #434B5C;\n",
              "      box-shadow: 0px 1px 3px 1px rgba(0, 0, 0, 0.15);\n",
              "      filter: drop-shadow(0px 1px 2px rgba(0, 0, 0, 0.3));\n",
              "      fill: #FFFFFF;\n",
              "    }\n",
              "  </style>\n",
              "\n",
              "    <script>\n",
              "      const buttonEl =\n",
              "        document.querySelector('#df-9ebcfc32-5470-4bd2-a472-7f14909644ed button.colab-df-convert');\n",
              "      buttonEl.style.display =\n",
              "        google.colab.kernel.accessAllowed ? 'block' : 'none';\n",
              "\n",
              "      async function convertToInteractive(key) {\n",
              "        const element = document.querySelector('#df-9ebcfc32-5470-4bd2-a472-7f14909644ed');\n",
              "        const dataTable =\n",
              "          await google.colab.kernel.invokeFunction('convertToInteractive',\n",
              "                                                    [key], {});\n",
              "        if (!dataTable) return;\n",
              "\n",
              "        const docLinkHtml = 'Like what you see? Visit the ' +\n",
              "          '<a target=\"_blank\" href=https://colab.research.google.com/notebooks/data_table.ipynb>data table notebook</a>'\n",
              "          + ' to learn more about interactive tables.';\n",
              "        element.innerHTML = '';\n",
              "        dataTable['output_type'] = 'display_data';\n",
              "        await google.colab.output.renderOutput(dataTable, element);\n",
              "        const docLink = document.createElement('div');\n",
              "        docLink.innerHTML = docLinkHtml;\n",
              "        element.appendChild(docLink);\n",
              "      }\n",
              "    </script>\n",
              "  </div>\n",
              "\n",
              "\n",
              "<div id=\"df-c47b8916-62af-4c97-8d62-7515c7a353c5\">\n",
              "  <button class=\"colab-df-quickchart\" onclick=\"quickchart('df-c47b8916-62af-4c97-8d62-7515c7a353c5')\"\n",
              "            title=\"Suggest charts\"\n",
              "            style=\"display:none;\">\n",
              "\n",
              "<svg xmlns=\"http://www.w3.org/2000/svg\" height=\"24px\"viewBox=\"0 0 24 24\"\n",
              "     width=\"24px\">\n",
              "    <g>\n",
              "        <path d=\"M19 3H5c-1.1 0-2 .9-2 2v14c0 1.1.9 2 2 2h14c1.1 0 2-.9 2-2V5c0-1.1-.9-2-2-2zM9 17H7v-7h2v7zm4 0h-2V7h2v10zm4 0h-2v-4h2v4z\"/>\n",
              "    </g>\n",
              "</svg>\n",
              "  </button>\n",
              "\n",
              "<style>\n",
              "  .colab-df-quickchart {\n",
              "      --bg-color: #E8F0FE;\n",
              "      --fill-color: #1967D2;\n",
              "      --hover-bg-color: #E2EBFA;\n",
              "      --hover-fill-color: #174EA6;\n",
              "      --disabled-fill-color: #AAA;\n",
              "      --disabled-bg-color: #DDD;\n",
              "  }\n",
              "\n",
              "  [theme=dark] .colab-df-quickchart {\n",
              "      --bg-color: #3B4455;\n",
              "      --fill-color: #D2E3FC;\n",
              "      --hover-bg-color: #434B5C;\n",
              "      --hover-fill-color: #FFFFFF;\n",
              "      --disabled-bg-color: #3B4455;\n",
              "      --disabled-fill-color: #666;\n",
              "  }\n",
              "\n",
              "  .colab-df-quickchart {\n",
              "    background-color: var(--bg-color);\n",
              "    border: none;\n",
              "    border-radius: 50%;\n",
              "    cursor: pointer;\n",
              "    display: none;\n",
              "    fill: var(--fill-color);\n",
              "    height: 32px;\n",
              "    padding: 0;\n",
              "    width: 32px;\n",
              "  }\n",
              "\n",
              "  .colab-df-quickchart:hover {\n",
              "    background-color: var(--hover-bg-color);\n",
              "    box-shadow: 0 1px 2px rgba(60, 64, 67, 0.3), 0 1px 3px 1px rgba(60, 64, 67, 0.15);\n",
              "    fill: var(--button-hover-fill-color);\n",
              "  }\n",
              "\n",
              "  .colab-df-quickchart-complete:disabled,\n",
              "  .colab-df-quickchart-complete:disabled:hover {\n",
              "    background-color: var(--disabled-bg-color);\n",
              "    fill: var(--disabled-fill-color);\n",
              "    box-shadow: none;\n",
              "  }\n",
              "\n",
              "  .colab-df-spinner {\n",
              "    border: 2px solid var(--fill-color);\n",
              "    border-color: transparent;\n",
              "    border-bottom-color: var(--fill-color);\n",
              "    animation:\n",
              "      spin 1s steps(1) infinite;\n",
              "  }\n",
              "\n",
              "  @keyframes spin {\n",
              "    0% {\n",
              "      border-color: transparent;\n",
              "      border-bottom-color: var(--fill-color);\n",
              "      border-left-color: var(--fill-color);\n",
              "    }\n",
              "    20% {\n",
              "      border-color: transparent;\n",
              "      border-left-color: var(--fill-color);\n",
              "      border-top-color: var(--fill-color);\n",
              "    }\n",
              "    30% {\n",
              "      border-color: transparent;\n",
              "      border-left-color: var(--fill-color);\n",
              "      border-top-color: var(--fill-color);\n",
              "      border-right-color: var(--fill-color);\n",
              "    }\n",
              "    40% {\n",
              "      border-color: transparent;\n",
              "      border-right-color: var(--fill-color);\n",
              "      border-top-color: var(--fill-color);\n",
              "    }\n",
              "    60% {\n",
              "      border-color: transparent;\n",
              "      border-right-color: var(--fill-color);\n",
              "    }\n",
              "    80% {\n",
              "      border-color: transparent;\n",
              "      border-right-color: var(--fill-color);\n",
              "      border-bottom-color: var(--fill-color);\n",
              "    }\n",
              "    90% {\n",
              "      border-color: transparent;\n",
              "      border-bottom-color: var(--fill-color);\n",
              "    }\n",
              "  }\n",
              "</style>\n",
              "\n",
              "  <script>\n",
              "    async function quickchart(key) {\n",
              "      const quickchartButtonEl =\n",
              "        document.querySelector('#' + key + ' button');\n",
              "      quickchartButtonEl.disabled = true;  // To prevent multiple clicks.\n",
              "      quickchartButtonEl.classList.add('colab-df-spinner');\n",
              "      try {\n",
              "        const charts = await google.colab.kernel.invokeFunction(\n",
              "            'suggestCharts', [key], {});\n",
              "      } catch (error) {\n",
              "        console.error('Error during call to suggestCharts:', error);\n",
              "      }\n",
              "      quickchartButtonEl.classList.remove('colab-df-spinner');\n",
              "      quickchartButtonEl.classList.add('colab-df-quickchart-complete');\n",
              "    }\n",
              "    (() => {\n",
              "      let quickchartButtonEl =\n",
              "        document.querySelector('#df-c47b8916-62af-4c97-8d62-7515c7a353c5 button');\n",
              "      quickchartButtonEl.style.display =\n",
              "        google.colab.kernel.accessAllowed ? 'block' : 'none';\n",
              "    })();\n",
              "  </script>\n",
              "</div>\n",
              "\n",
              "    </div>\n",
              "  </div>\n"
            ],
            "application/vnd.google.colaboratory.intrinsic+json": {
              "type": "dataframe",
              "variable_name": "data_val",
              "summary": "{\n  \"name\": \"data_val\",\n  \"rows\": 1007,\n  \"fields\": [\n    {\n      \"column\": \"source\",\n      \"properties\": {\n        \"dtype\": \"category\",\n        \"num_unique_values\": 5,\n        \"samples\": [\n          \"paraphrased\",\n          \"facebook\",\n          \"youtube\"\n        ],\n        \"semantic_type\": \"\",\n        \"description\": \"\"\n      }\n    },\n    {\n      \"column\": \"text\",\n      \"properties\": {\n        \"dtype\": \"string\",\n        \"num_unique_values\": 1004,\n        \"samples\": [\n          \"\\u062c\\u0632\\u0627\\u064a\\u0631 \\u0645\\u0627 \\u0639\\u0646\\u062f\\u0647\\u0627\\u0634 \\u0627\\u0644\\u0645\\u0624\\u0647\\u0644\\u0627\\u062a \\u0628\\u0627\\u0634 \\u062a\\u0643\\u0648\\u0646 \\u0628\\u0644\\u062f \\u0633\\u064a\\u0627\\u062d\\u064a \\u0632\\u064a\\u0631\\u0648 \\u0642\\u0627\\u0639\",\n          \"\\u0648\\u0643\\u0627\\u0644\\u0629 \\u0645\\u0643\\u0627\\u0641\\u062d\\u0629 \\u0627\\u0644\\u0641\\u0633\\u0627\\u062f \\u062a\\u0627\\u0639 \\u0627\\u0644\\u0628\\u0627\\u0643\\u0633\\u062a\\u0627\\u0646 \\u0628\\u062f\\u0627\\u062a \\u062f\\u064a\\u0631 \\u0641\\u062a\\u062d\\u0642\\u064a\\u0642 \\u062c\\u0646\\u0627\\u0626\\u064a \\u0645\\u0639 \\u0648\\u0632\\u064a\\u0631 \\u0627\\u0644\\u0645\\u0627\\u0644\\u064a\\u0629 \\u0627\\u0644\\u0642\\u062f\\u064a\\u0645 \\u0648 \\u0631\\u0626\\u064a\\u0633 \\u0627\\u0644\\u0648\\u0632\\u0631\\u0627\\u0621\",\n          \"\\u0641\\u0627\\u0644\\u0643\\u0645 \\u0641\\u062c\\u0644\\u0627\\u0644\\u0643\\u0645 \\u0647\\u0627\\u062f\\u0627 \\u0645\\u0627\\u062a\\u0645\\u0646\\u064a\\u062a\\u0648 \\u0644\\u0644\\u062c\\u0632\\u0627\\u0626\\u0631 \\u0627\\u0644\\u062d\\u0632\\u0646  \\u062a\\u062d\\u0628\\u0648\\u0647\\u0627 \\u062f\\u064a\\u0645\\u0627 \\u062d\\u0632\\u064a\\u0646\\u0629 \\u0627\\u0644\\u062d\\u0642\\u062f \\u0648\\u0627\\u0644\\u062d\\u0633\\u062f \\u0639\\u0645\\u0627\\u0643\\u0645  \\u0627\\u0644\\u062d\\u0645\\u062f \\u0627\\u0644\\u0644\\u0647 \\u0631\\u0627\\u0626\\u064a\\u0633\\u0646\\u0627 \\u0645\\u0632\\u0627\\u0644 \\u0639\\u064a\\u0634  \\u0648\\u0641\\u0635\\u062d\\u0629 \\u062c\\u064a\\u062f\\u0629  \\u064a\\u0645\\u0648\\u062a \\u0639\\u062f\\u064a\\u0627\\u0646 \\u0627\\u0644\\u062c\\u0632\\u0627\\u0626\\u0631 \\u0627\\u0646\\u0634\\u0627\\u0621 \\u0627\\u0644\\u0644\\u0647\"\n        ],\n        \"semantic_type\": \"\",\n        \"description\": \"\"\n      }\n    },\n    {\n      \"column\": \"label\",\n      \"properties\": {\n        \"dtype\": \"number\",\n        \"std\": 0,\n        \"min\": 0,\n        \"max\": 2,\n        \"num_unique_values\": 3,\n        \"samples\": [\n          2,\n          0,\n          1\n        ],\n        \"semantic_type\": \"\",\n        \"description\": \"\"\n      }\n    }\n  ]\n}"
            }
          },
          "metadata": {},
          "execution_count": 26
        }
      ]
    },
    {
      "cell_type": "code",
      "source": [
        "#save\n",
        "data_train.to_csv('/content/drive/MyDrive/Academic_Papers/FASSILA/DATA/Sentiment Analysis/Final data/train_set.csv', index=False)\n",
        "data_val.to_csv('/content/drive/MyDrive/Academic_Papers/FASSILA/DATA/Sentiment Analysis/Final data/validation_set.csv', index=False)\n",
        "data_test.to_csv('/content/drive/MyDrive/Academic_Papers/FASSILA/DATA/Sentiment Analysis/Final data/test_set.csv', index=False)"
      ],
      "metadata": {
        "id": "q9X77gOh6KkX"
      },
      "execution_count": null,
      "outputs": []
    },
    {
      "cell_type": "code",
      "source": [
        "data_train.groupby(['SA_label']).size()"
      ],
      "metadata": {
        "colab": {
          "base_uri": "https://localhost:8080/"
        },
        "id": "Nd1QwW_l7Otn",
        "outputId": "df3d5338-e2a3-4bac-e807-ea8cf539b481"
      },
      "execution_count": null,
      "outputs": [
        {
          "output_type": "execute_result",
          "data": {
            "text/plain": [
              "SA_label\n",
              "0    2327\n",
              "1     399\n",
              "2    5330\n",
              "dtype: int64"
            ]
          },
          "metadata": {},
          "execution_count": 12
        }
      ]
    },
    {
      "cell_type": "code",
      "source": [
        "data_test = pd.read_csv('/content/test_set.csv', sep=',')\n",
        "len(data_test)"
      ],
      "metadata": {
        "colab": {
          "base_uri": "https://localhost:8080/"
        },
        "id": "gIr9i-Nf7BI1",
        "outputId": "66966d3a-b6db-46c9-cb61-1dbc27883012"
      },
      "execution_count": null,
      "outputs": [
        {
          "output_type": "execute_result",
          "data": {
            "text/plain": [
              "1009"
            ]
          },
          "metadata": {},
          "execution_count": 16
        }
      ]
    },
    {
      "cell_type": "code",
      "source": [
        "data_test.groupby(['label']).size()"
      ],
      "metadata": {
        "colab": {
          "base_uri": "https://localhost:8080/"
        },
        "id": "YUOaWSeh7Q7h",
        "outputId": "4e019445-f89f-4bae-acc8-29c2c8077896"
      },
      "execution_count": null,
      "outputs": [
        {
          "output_type": "execute_result",
          "data": {
            "text/plain": [
              "label\n",
              "fake    470\n",
              "real    539\n",
              "dtype: int64"
            ]
          },
          "metadata": {},
          "execution_count": 22
        }
      ]
    },
    {
      "cell_type": "code",
      "source": [
        "data_valid = pd.read_csv('/content/validation_set.csv', sep=',')\n",
        "len(data_valid)"
      ],
      "metadata": {
        "colab": {
          "base_uri": "https://localhost:8080/"
        },
        "id": "CUdtK86z7G84",
        "outputId": "0e72bd25-97cd-4512-e041-1389ad2dcecc"
      },
      "execution_count": null,
      "outputs": [
        {
          "output_type": "execute_result",
          "data": {
            "text/plain": [
              "1009"
            ]
          },
          "metadata": {},
          "execution_count": 18
        }
      ]
    },
    {
      "cell_type": "code",
      "source": [
        "data_valid.groupby(['label']).size()"
      ],
      "metadata": {
        "colab": {
          "base_uri": "https://localhost:8080/"
        },
        "id": "HP8y8soB6h7K",
        "outputId": "bdbbd274-7a55-448d-f6dc-e26fa2d8dae4"
      },
      "execution_count": null,
      "outputs": [
        {
          "output_type": "execute_result",
          "data": {
            "text/plain": [
              "label\n",
              "fake    469\n",
              "real    540\n",
              "dtype: int64"
            ]
          },
          "metadata": {},
          "execution_count": 24
        }
      ]
    },
    {
      "cell_type": "markdown",
      "source": [
        "# Calculate the sentence and tokens length"
      ],
      "metadata": {
        "id": "CA6BayomChFk"
      }
    },
    {
      "cell_type": "markdown",
      "source": [
        "**Calculate the average sentence length**"
      ],
      "metadata": {
        "id": "hGjVQ4QcFBW9"
      }
    },
    {
      "cell_type": "code",
      "source": [
        "import pandas as pd\n",
        "import nltk\n",
        "nltk.download('punkt')\n",
        "from nltk.tokenize import sent_tokenize, word_tokenize\n",
        "\n",
        "data = {\n",
        "    'text': [\n",
        "        \"This is the first sentence. This is the second sentence.\",\n",
        "        \"Another sentence here. And one more here.\",\n",
        "        # Add more text data here\n",
        "    ]\n",
        "}\n",
        "\n",
        "df = pd.read_csv('/content/validation_set.csv', sep=',')\n",
        "\n",
        "def calculate_average_sentence_length(text):\n",
        "    sentences = sent_tokenize(text)\n",
        "    if len(sentences) == 0:  # To handle any empty text fields\n",
        "        return 0\n",
        "    total_length = sum(len(word_tokenize(sentence)) for sentence in sentences)\n",
        "    return total_length\n",
        "\n",
        "df['average_sentence_length'] = df['text'].apply(calculate_average_sentence_length)\n",
        "df['average_sentence_length'].mean()"
      ],
      "metadata": {
        "id": "Dkc61Bve-pFu"
      },
      "execution_count": null,
      "outputs": []
    },
    {
      "cell_type": "markdown",
      "source": [
        "**Calculate the tokens' length**"
      ],
      "metadata": {
        "id": "P0Z9ChcMFGLC"
      }
    },
    {
      "cell_type": "code",
      "source": [
        "df = pd.read_csv('/content/test_set.csv', sep=',')\n",
        "count = 0\n",
        "for i in range(len(df)):\n",
        "  count+= len(df['text'][i].split())\n",
        "print(count)\n"
      ],
      "metadata": {
        "id": "R4gpZUOeDEBS"
      },
      "execution_count": null,
      "outputs": []
    },
    {
      "cell_type": "markdown",
      "source": [
        "**Statisitics chart in terms of numerical distribution**"
      ],
      "metadata": {
        "id": "U6IwdekPHOdZ"
      }
    },
    {
      "cell_type": "code",
      "source": [
        "import matplotlib.pyplot as plt\n",
        "\n",
        "# Data from the table\n",
        "statistics = {\n",
        "    'Num. of Tokens': [75353, 9318, 9604],\n",
        "    'Size': [8069, 1009, 1009],\n",
        "    'Avg. sentence length': [9.436, 9.340, 9.620]\n",
        "}\n",
        "\n",
        "categories = ['Train', 'Validation', 'Test']\n",
        "\n",
        "colors = ['#1f77b4', '#ff7f0e', '#2ca02c']  # A set of distinct, visually appealing colors\n",
        "\n",
        "\n",
        "plt.figure(figsize=(15, 5))\n",
        "\n",
        "for i, (stat, values) in enumerate(statistics.items(), 1):\n",
        "    plt.subplot(1, 3, i)\n",
        "    plt.bar(categories, values, color=colors)\n",
        "    plt.title(stat)\n",
        "    plt.xlabel('Dataset')\n",
        "    plt.ylabel(stat)\n",
        "\n",
        "plt.tight_layout()\n",
        "plt.show()"
      ],
      "metadata": {
        "colab": {
          "base_uri": "https://localhost:8080/",
          "height": 485
        },
        "id": "KhVAfHMbFnww",
        "outputId": "5df68a32-c436-4614-9d10-c9e113a000aa"
      },
      "execution_count": null,
      "outputs": [
        {
          "output_type": "display_data",
          "data": {
            "text/plain": [
              "<Figure size 1500x500 with 3 Axes>"
            ],
            "image/png": "[encoded data removed]"
          },
          "metadata": {}
        }
      ]
    },
    {
      "cell_type": "markdown",
      "source": [
        "**Statisitics chart in terms of data sources distribution**"
      ],
      "metadata": {
        "id": "ieoOTs8sRt71"
      }
    },
    {
      "cell_type": "code",
      "source": [
        "df_train = pd.read_csv('/content/train_set.csv', sep=',')\n",
        "df_train.groupby(['source']).size()"
      ],
      "metadata": {
        "colab": {
          "base_uri": "https://localhost:8080/"
        },
        "id": "bUf_j-sCLavD",
        "outputId": "f760d4b9-c807-42db-a030-e2f851dd8ea0"
      },
      "execution_count": null,
      "outputs": [
        {
          "output_type": "execute_result",
          "data": {
            "text/plain": [
              "source\n",
              "facebook         23\n",
              "manual         1935\n",
              "paraphrased    1886\n",
              "translated     3312\n",
              "youtube         913\n",
              "dtype: int64"
            ]
          },
          "metadata": {},
          "execution_count": 89
        }
      ]
    },
    {
      "cell_type": "code",
      "source": [
        "df_validation = pd.read_csv('/content/validation_set.csv', sep=',')\n",
        "df_validation.groupby(['source']).size()"
      ],
      "metadata": {
        "colab": {
          "base_uri": "https://localhost:8080/"
        },
        "id": "g5f1SRPiLcZH",
        "outputId": "95589ce5-0ddb-429a-da7d-8e7cdc6df819"
      },
      "execution_count": null,
      "outputs": [
        {
          "output_type": "execute_result",
          "data": {
            "text/plain": [
              "source\n",
              "facebook         2\n",
              "manual         245\n",
              "paraphrased    241\n",
              "translated     414\n",
              "youtube        107\n",
              "dtype: int64"
            ]
          },
          "metadata": {},
          "execution_count": 90
        }
      ]
    },
    {
      "cell_type": "code",
      "source": [
        "df_test = pd.read_csv('/content/test_set.csv', sep=',')\n",
        "df_test.groupby(['source']).size()"
      ],
      "metadata": {
        "colab": {
          "base_uri": "https://localhost:8080/"
        },
        "id": "iW2BHC_oLlwL",
        "outputId": "f3ee2901-56b0-4c6f-907b-16ec127d5633"
      },
      "execution_count": null,
      "outputs": [
        {
          "output_type": "execute_result",
          "data": {
            "text/plain": [
              "source\n",
              "manual         231\n",
              "paraphrased    235\n",
              "translated     413\n",
              "youtube        129\n",
              "youtube          1\n",
              "dtype: int64"
            ]
          },
          "metadata": {},
          "execution_count": 91
        }
      ]
    },
    {
      "cell_type": "code",
      "source": [
        "import matplotlib.pyplot as plt\n",
        "\n",
        "# Data from the table\n",
        "statistics = {\n",
        "    'Translated': [3312, 414, 413],\n",
        "    'Manual': [1935, 245, 231],\n",
        "    'Paraphrased': [1886, 241, 235]\n",
        "}\n",
        "\n",
        "categories = ['Train', 'Validation', 'Test']\n",
        "\n",
        "colors = ['#1f77b4', '#ff7f0e', '#2ca02c']  # A set of distinct, visually appealing colors\n",
        "\n",
        "plt.figure(figsize=(15, 5))\n",
        "\n",
        "for i, (stat, values) in enumerate(statistics.items(), 1):\n",
        "    plt.subplot(1, 3, i)\n",
        "    bars = plt.bar(categories, values, color=colors)\n",
        "    plt.title(stat)\n",
        "    plt.xlabel('Dataset')\n",
        "    plt.ylabel(stat)\n",
        "\n",
        "    # Add the data labels on the bars\n",
        "    for bar in bars:\n",
        "        yval = bar.get_height()\n",
        "        plt.text(bar.get_x() + bar.get_width() / 2, yval, yval, ha='center', va='bottom')\n",
        "\n",
        "plt.tight_layout()\n",
        "plt.show()\n",
        "\n"
      ],
      "metadata": {
        "colab": {
          "base_uri": "https://localhost:8080/",
          "height": 527
        },
        "id": "5rc5AjgPMjas",
        "outputId": "24fec7fc-8ec3-4245-d979-abdd2b6d4fc5"
      },
      "execution_count": null,
      "outputs": [
        {
          "output_type": "display_data",
          "data": {
            "text/plain": [
              "<Figure size 1500x500 with 3 Axes>"
            ],
            "image/png": "[encoded data removed]"
          },
          "metadata": {}
        }
      ]
    }
  ]
}